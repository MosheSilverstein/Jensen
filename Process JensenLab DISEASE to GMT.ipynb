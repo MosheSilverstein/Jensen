{
 "cells": [
  {
   "cell_type": "code",
   "execution_count": 1,
   "metadata": {
    "collapsed": true
   },
   "outputs": [],
   "source": [
    "import pandas as pd\n",
    "import numpy as np"
   ]
  },
  {
   "cell_type": "code",
   "execution_count": 2,
   "metadata": {
    "collapsed": false
   },
   "outputs": [],
   "source": [
    "col = ['Ensemble Acc', 'GeneSym', 'DOID', 'Disease', 'Source', 'SampleInfo', 'Value']"
   ]
  },
  {
   "cell_type": "code",
   "execution_count": 3,
   "metadata": {
    "collapsed": true
   },
   "outputs": [],
   "source": [
    "h_d_e = pd.read_csv('Input/human_disease_experiments_filtered.tsv', sep='\\t', names=col)"
   ]
  },
  {
   "cell_type": "code",
   "execution_count": 4,
   "metadata": {
    "collapsed": true
   },
   "outputs": [],
   "source": [
    "h_d_k = pd.read_csv('Input/human_disease_knowledge_filtered.tsv', sep='\\t', names=col)"
   ]
  },
  {
   "cell_type": "code",
   "execution_count": 5,
   "metadata": {
    "collapsed": true
   },
   "outputs": [],
   "source": [
    "h_d_t = pd.read_csv('Input/human_disease_textmining_filtered.tsv', sep='\\t', names=col)"
   ]
  },
  {
   "cell_type": "code",
   "execution_count": 6,
   "metadata": {
    "collapsed": false
   },
   "outputs": [],
   "source": [
    "h_d_e = h_d_e[['Disease', 'DOID', 'GeneSym']]"
   ]
  },
  {
   "cell_type": "code",
   "execution_count": 7,
   "metadata": {
    "collapsed": true
   },
   "outputs": [],
   "source": [
    "h_d_k = h_d_k[['Disease', 'DOID', 'GeneSym']]"
   ]
  },
  {
   "cell_type": "code",
   "execution_count": 8,
   "metadata": {
    "collapsed": true
   },
   "outputs": [],
   "source": [
    "h_d_t = h_d_t[['Disease', 'DOID', 'GeneSym']]"
   ]
  },
  {
   "cell_type": "code",
   "execution_count": 9,
   "metadata": {
    "collapsed": false
   },
   "outputs": [],
   "source": [
    "h_d_e.sort_values(by='Disease', inplace=True)"
   ]
  },
  {
   "cell_type": "code",
   "execution_count": 10,
   "metadata": {
    "collapsed": true
   },
   "outputs": [],
   "source": [
    "h_d_k.sort_values(by='Disease', inplace=True)"
   ]
  },
  {
   "cell_type": "code",
   "execution_count": 11,
   "metadata": {
    "collapsed": true
   },
   "outputs": [],
   "source": [
    "h_d_t.sort_values(by='Disease', inplace=True)"
   ]
  },
  {
   "cell_type": "code",
   "execution_count": 12,
   "metadata": {
    "collapsed": false
   },
   "outputs": [],
   "source": [
    "human_disease_experiment = pd.DataFrame()\n",
    "\n",
    "olddis = ''\n",
    "lst = []\n",
    "\n",
    "for ind in h_d_e.index:\n",
    "    \n",
    "    dis = h_d_e.at[ind, 'Disease']\n",
    "    \n",
    "    if dis == olddis:\n",
    "        lst.append(h_d_e.at[ind, 'GeneSym'])\n",
    "    else:\n",
    "        if not lst:\n",
    "            lst.append(h_d_e.at[ind, 'DOID'])\n",
    "            olddis = dis        \n",
    "        else:\n",
    "            if len(lst) >= 6:\n",
    "                temp_df = pd.DataFrame(index=[olddis], columns=range(0, len(lst)))\n",
    "                temp_df.ix[olddis] = lst \n",
    "                human_disease_experiment = human_disease_experiment.append(temp_df)\n",
    "\n",
    "                lst = []\n",
    "                lst.append(h_d_e.at[ind, 'DOID'])\n",
    "                olddis = dis\n",
    "            else:\n",
    "                lst = []\n",
    "                lst.append(h_d_e.at[ind, 'DOID'])\n",
    "                olddis = dis \n",
    "\n",
    "human_disease_experiment.dropna(axis=1, how='all')\n",
    "human_disease_experiment.replace(np.nan, ' ', inplace=True)"
   ]
  },
  {
   "cell_type": "code",
   "execution_count": 13,
   "metadata": {
    "collapsed": true
   },
   "outputs": [],
   "source": [
    "human_disease_knowledge = pd.DataFrame()\n",
    "\n",
    "olddis = ''\n",
    "lst = []\n",
    "\n",
    "for ind in h_d_k.index:\n",
    "    \n",
    "    dis = h_d_k.at[ind, 'Disease']\n",
    "    \n",
    "    if dis == olddis:\n",
    "        lst.append(h_d_k.at[ind, 'GeneSym'])\n",
    "    else:\n",
    "        if not lst:\n",
    "            lst.append(h_d_k.at[ind, 'DOID'])\n",
    "            olddis = dis        \n",
    "        else:\n",
    "            if len(lst) >= 6:\n",
    "                temp_df = pd.DataFrame(index=[olddis], columns=range(0, len(lst)))\n",
    "                temp_df.ix[olddis] = lst \n",
    "                human_disease_knowledge = human_disease_knowledge.append(temp_df)\n",
    "\n",
    "                lst = []\n",
    "                lst.append(h_d_k.at[ind, 'DOID'])\n",
    "                olddis = dis\n",
    "            else:\n",
    "                lst = []\n",
    "                lst.append(h_d_k.at[ind, 'DOID'])\n",
    "                olddis = dis \n",
    "\n",
    "human_disease_knowledge.dropna(axis=1, how='all')\n",
    "human_disease_knowledge.replace(np.nan, ' ', inplace=True)"
   ]
  },
  {
   "cell_type": "code",
   "execution_count": 14,
   "metadata": {
    "collapsed": false
   },
   "outputs": [],
   "source": [
    "human_disease_textmining = pd.DataFrame()\n",
    "\n",
    "olddis = ''\n",
    "lst = []\n",
    "\n",
    "for ind in h_d_t.index:\n",
    "    \n",
    "    dis = h_d_t.at[ind, 'Disease']\n",
    "    \n",
    "    if dis == olddis:\n",
    "        lst.append(h_d_t.at[ind, 'GeneSym'])\n",
    "    else:\n",
    "        if not lst:\n",
    "            lst.append(h_d_t.at[ind, 'DOID'])\n",
    "            olddis = dis        \n",
    "        else:\n",
    "            if len(lst) >= 6:\n",
    "                temp_df = pd.DataFrame(index=[olddis], columns=range(0, len(lst)))\n",
    "                temp_df.ix[olddis] = lst \n",
    "                human_disease_textmining = human_disease_textmining.append(temp_df)\n",
    "\n",
    "                lst = []\n",
    "                lst.append(h_d_t.at[ind, 'DOID'])\n",
    "                olddis = dis\n",
    "            else:\n",
    "                lst = []\n",
    "                lst.append(h_d_t.at[ind, 'DOID'])\n",
    "                olddis = dis \n",
    "\n",
    "human_disease_textmining.dropna(axis=1, how='all')\n",
    "human_disease_textmining.replace(np.nan, ' ', inplace=True)"
   ]
  },
  {
   "cell_type": "code",
   "execution_count": 15,
   "metadata": {
    "collapsed": false
   },
   "outputs": [],
   "source": [
    "human_disease_experiment.to_csv('Output/human_disease_experiments_filtered.gmt', sep='\\t', quotechar=' ')"
   ]
  },
  {
   "cell_type": "code",
   "execution_count": 16,
   "metadata": {
    "collapsed": false
   },
   "outputs": [],
   "source": [
    "human_disease_knowledge.to_csv('Output/human_disease_knowledge_filtered.gmt', sep='\\t', quotechar=' ')"
   ]
  },
  {
   "cell_type": "code",
   "execution_count": 17,
   "metadata": {
    "collapsed": true
   },
   "outputs": [],
   "source": [
    "human_disease_textmining.to_csv('Output/human_disease_textmining_filtered.gmt', sep='\\t', quotechar=' ')"
   ]
  }
 ],
 "metadata": {
  "anaconda-cloud": {},
  "kernelspec": {
   "display_name": "Python [default]",
   "language": "python",
   "name": "python3"
  },
  "language_info": {
   "codemirror_mode": {
    "name": "ipython",
    "version": 3
   },
   "file_extension": ".py",
   "mimetype": "text/x-python",
   "name": "python",
   "nbconvert_exporter": "python",
   "pygments_lexer": "ipython3",
   "version": "3.5.2"
  }
 },
 "nbformat": 4,
 "nbformat_minor": 2
}
