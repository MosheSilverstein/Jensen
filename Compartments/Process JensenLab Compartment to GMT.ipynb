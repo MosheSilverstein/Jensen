{
 "cells": [
  {
   "cell_type": "code",
   "execution_count": 1,
   "metadata": {
    "collapsed": true
   },
   "outputs": [],
   "source": [
    "import pandas as pd\n",
    "import numpy as np"
   ]
  },
  {
   "cell_type": "code",
   "execution_count": 2,
   "metadata": {
    "collapsed": true
   },
   "outputs": [],
   "source": [
    "col = ['Ensemble Acc', 'GeneSym', 'GO', 'Compartment', 'Source', 'SampleInfo', 'Value']"
   ]
  },
  {
   "cell_type": "code",
   "execution_count": 3,
   "metadata": {
    "collapsed": false
   },
   "outputs": [],
   "source": [
    "h_c_t = pd.read_csv('Input/human_compartment_textmining_full.tsv', sep='\\t', names=col)"
   ]
  },
  {
   "cell_type": "code",
   "execution_count": 4,
   "metadata": {
    "collapsed": false
   },
   "outputs": [],
   "source": [
    "h_c_t = h_c_t[['Compartment', 'GO', 'GeneSym']]"
   ]
  },
  {
   "cell_type": "code",
   "execution_count": 5,
   "metadata": {
    "collapsed": true
   },
   "outputs": [],
   "source": [
    "h_c_t.sort_values(by='Compartment', inplace=True)"
   ]
  },
  {
   "cell_type": "code",
   "execution_count": 6,
   "metadata": {
    "collapsed": false
   },
   "outputs": [],
   "source": [
    "human_compartment_textmining = pd.DataFrame()\n",
    "\n",
    "oldcom = ''\n",
    "lst = []\n",
    "\n",
    "for ind in h_c_t.index:\n",
    "    \n",
    "    com = h_c_t.at[ind, 'Compartment']\n",
    "    \n",
    "    if com == oldcom:\n",
    "        lst.append(h_c_t.at[ind, 'GeneSym'])\n",
    "    else:\n",
    "        if not lst:\n",
    "            lst.append(h_c_t.at[ind, 'GO'])\n",
    "            oldcom = com        \n",
    "        else:\n",
    "            if len(lst) >= 6:\n",
    "                temp_df = pd.DataFrame(index=[oldcom], columns=range(0, len(lst)))\n",
    "                temp_df.ix[oldcom] = lst \n",
    "                human_compartment_textmining = human_compartment_textmining.append(temp_df)\n",
    "\n",
    "                lst = []\n",
    "                lst.append(h_c_t.at[ind, 'GO'])\n",
    "                oldcom = com\n",
    "            else:\n",
    "                lst = []\n",
    "                lst.append(h_c_t.at[ind, 'GO'])\n",
    "                oldcom = com \n",
    "\n",
    "human_compartment_textmining.dropna(axis=1, how='all')\n",
    "human_compartment_textmining.replace(np.nan, ' ', inplace=True)"
   ]
  },
  {
   "cell_type": "code",
   "execution_count": 7,
   "metadata": {
    "collapsed": true
   },
   "outputs": [],
   "source": [
    "human_compartment_textmining.to_csv('Output/human_compartment_textmining_filtered.gmt', sep='\\t', quotechar=' ', header=None)"
   ]
  },
  {
   "cell_type": "code",
   "execution_count": 8,
   "metadata": {
    "collapsed": false
   },
   "outputs": [],
   "source": [
    "h_c_e = pd.read_csv('Input/human_compartment_experiments_full.tsv', sep='\\t', names=col)\n",
    "h_c_e = h_c_e[['Compartment', 'GO', 'GeneSym']]\n",
    "h_c_e.sort_values(by='Compartment', inplace=True)\n",
    "\n",
    "human_compartment_experiments = pd.DataFrame()\n",
    "\n",
    "oldcom = ''\n",
    "lst = []\n",
    "\n",
    "for ind in h_c_e.index:\n",
    "    \n",
    "    com = h_c_e.at[ind, 'Compartment']\n",
    "    \n",
    "    if com == oldcom:\n",
    "        lst.append(h_c_e.at[ind, 'GeneSym'])\n",
    "    else:\n",
    "        if not lst:\n",
    "            lst.append(h_c_e.at[ind, 'GO'])\n",
    "            oldcom = com        \n",
    "        else:\n",
    "            if len(lst) >= 6:\n",
    "                temp_df = pd.DataFrame(index=[oldcom], columns=range(0, len(lst)))\n",
    "                temp_df.ix[oldcom] = lst \n",
    "                human_compartment_experiments = human_compartment_experiments.append(temp_df)\n",
    "\n",
    "                lst = []\n",
    "                lst.append(h_c_e.at[ind, 'GO'])\n",
    "                oldcom = com\n",
    "            else:\n",
    "                lst = []\n",
    "                lst.append(h_c_e.at[ind, 'GO'])\n",
    "                oldcom = com \n",
    "\n",
    "human_compartment_experiments.dropna(axis=1, how='all')\n",
    "human_compartment_experiments.replace(np.nan, ' ', inplace=True)\n",
    "\n",
    "human_compartment_experiments.to_csv('Output/human_compartment_experiments_filtered.gmt', sep='\\t', quotechar=' ', header=None)"
   ]
  },
  {
   "cell_type": "code",
   "execution_count": 9,
   "metadata": {
    "collapsed": false
   },
   "outputs": [],
   "source": [
    "h_c_k = pd.read_csv('Input/human_compartment_knowledge_full.tsv', sep='\\t', names=col)\n",
    "h_c_k = h_c_k[['Compartment', 'GO', 'GeneSym']]\n",
    "h_c_k.sort_values(by='Compartment', inplace=True)\n",
    "\n",
    "human_compartment_knowledge = pd.DataFrame()\n",
    "\n",
    "oldcom = ''\n",
    "lst = []\n",
    "\n",
    "for ind in h_c_k.index:\n",
    "    \n",
    "    com = h_c_k.at[ind, 'Compartment']\n",
    "    \n",
    "    if com == oldcom:\n",
    "        lst.append(h_c_k.at[ind, 'GeneSym'])\n",
    "    else:\n",
    "        if not lst:\n",
    "            lst.append(h_c_k.at[ind, 'GO'])\n",
    "            oldcom = com        \n",
    "        else:\n",
    "            if len(lst) >= 6:\n",
    "                temp_df = pd.DataFrame(index=[oldcom], columns=range(0, len(lst)))\n",
    "                temp_df.ix[oldcom] = lst \n",
    "                human_compartment_knowledge = human_compartment_knowledge.append(temp_df)\n",
    "\n",
    "                lst = []\n",
    "                lst.append(h_c_k.at[ind, 'GO'])\n",
    "                oldcom = com\n",
    "            else:\n",
    "                lst = []\n",
    "                lst.append(h_c_k.at[ind, 'GO'])\n",
    "                oldcom = com \n",
    "\n",
    "human_compartment_knowledge.dropna(axis=1, how='all')\n",
    "human_compartment_knowledge.replace(np.nan, ' ', inplace=True)\n",
    "\n",
    "human_compartment_knowledge.to_csv('Output/human_compartment_knowledge_filtered.gmt', sep='\\t', quotechar=' ', header=None)"
   ]
  }
 ],
 "metadata": {
  "anaconda-cloud": {},
  "kernelspec": {
   "display_name": "Python [default]",
   "language": "python",
   "name": "python3"
  },
  "language_info": {
   "codemirror_mode": {
    "name": "ipython",
    "version": 3
   },
   "file_extension": ".py",
   "mimetype": "text/x-python",
   "name": "python",
   "nbconvert_exporter": "python",
   "pygments_lexer": "ipython3",
   "version": "3.5.2"
  }
 },
 "nbformat": 4,
 "nbformat_minor": 2
}
