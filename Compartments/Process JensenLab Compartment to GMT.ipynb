{
 "cells": [
  {
   "cell_type": "code",
   "execution_count": 1,
   "metadata": {
    "collapsed": true
   },
   "outputs": [],
   "source": [
    "import pandas as pd\n",
    "import numpy as np"
   ]
  },
  {
   "cell_type": "code",
   "execution_count": 2,
   "metadata": {
    "collapsed": true
   },
   "outputs": [],
   "source": [
    "col = ['Ensemble Acc', 'GeneSym', 'GO', 'Compartment', 'Source', 'SampleInfo', 'Value']"
   ]
  },
  {
   "cell_type": "code",
   "execution_count": 3,
   "metadata": {
    "collapsed": false
   },
   "outputs": [],
   "source": [
    "h_c_t = pd.read_csv('Input/human_compartment_textmining_full.tsv', sep='\\t', names=col)"
   ]
  },
  {
   "cell_type": "code",
   "execution_count": 4,
   "metadata": {
    "collapsed": false
   },
   "outputs": [],
   "source": [
    "h_c_t = h_c_t[['Compartment', 'GO', 'GeneSym']]"
   ]
  },
  {
   "cell_type": "code",
   "execution_count": 5,
   "metadata": {
    "collapsed": true
   },
   "outputs": [],
   "source": [
    "h_c_t.sort_values(by='Compartment', inplace=True)"
   ]
  },
  {
   "cell_type": "code",
   "execution_count": 6,
   "metadata": {
    "collapsed": false
   },
   "outputs": [],
   "source": [
    "human_compartment_textmining = pd.DataFrame()\n",
    "\n",
    "oldcom = ''\n",
    "lst = []\n",
    "\n",
    "for ind in h_c_t.index:\n",
    "    \n",
    "    com = h_c_t.at[ind, 'Compartment']\n",
    "    \n",
    "    if com == oldcom:\n",
    "        lst.append(h_c_t.at[ind, 'GeneSym'])\n",
    "    else:\n",
    "        if not lst:\n",
    "            lst.append(h_c_t.at[ind, 'GO'])\n",
    "            oldcom = com        \n",
    "        else:\n",
    "            if len(lst) >= 6:\n",
    "                temp_df = pd.DataFrame(index=[oldcom], columns=range(0, len(lst)))\n",
    "                temp_df.ix[oldcom] = lst \n",
    "                human_compartment_textmining = human_compartment_textmining.append(temp_df)\n",
    "\n",
    "                lst = []\n",
    "                lst.append(h_c_t.at[ind, 'GO'])\n",
    "                oldcom = com\n",
    "            else:\n",
    "                lst = []\n",
    "                lst.append(h_c_t.at[ind, 'GO'])\n",
    "                oldcom = com \n",
    "\n",
    "human_compartment_textmining.dropna(axis=1, how='all')\n",
    "human_compartment_textmining.replace(np.nan, ' ', inplace=True)"
   ]
  },
  {
   "cell_type": "code",
   "execution_count": 7,
   "metadata": {
    "collapsed": true
   },
   "outputs": [],
   "source": [
    "human_compartment_textmining.to_csv('Output/human_compartment_textmining_filtered.gmt', sep='\\t', quotechar=' ', header=None)"
   ]
  },
  {
   "cell_type": "code",
   "execution_count": 8,
   "metadata": {
    "collapsed": false
   },
   "outputs": [],
   "source": [
    "h_c_e = pd.read_csv('Input/human_compartment_experiments_full.tsv', sep='\\t', names=col)\n",
    "h_c_e = h_c_e[['Compartment', 'GO', 'GeneSym']]\n",
    "h_c_e.sort_values(by='Compartment', inplace=True)\n",
    "\n",
    "human_compartment_experiments = pd.DataFrame()\n",
    "\n",
    "oldcom = ''\n",
    "lst = []\n",
    "\n",
    "for ind in h_c_e.index:\n",
    "    \n",
    "    com = h_c_e.at[ind, 'Compartment']\n",
    "    \n",
    "    if com == oldcom:\n",
    "        lst.append(h_c_e.at[ind, 'GeneSym'])\n",
    "    else:\n",
    "        if not lst:\n",
    "            lst.append(h_c_e.at[ind, 'GO'])\n",
    "            oldcom = com        \n",
    "        else:\n",
    "            if len(lst) >= 6:\n",
    "                temp_df = pd.DataFrame(index=[oldcom], columns=range(0, len(lst)))\n",
    "                temp_df.ix[oldcom] = lst \n",
    "                human_compartment_experiments = human_compartment_experiments.append(temp_df)\n",
    "\n",
    "                lst = []\n",
    "                lst.append(h_c_e.at[ind, 'GO'])\n",
    "                oldcom = com\n",
    "            else:\n",
    "                lst = []\n",
    "                lst.append(h_c_e.at[ind, 'GO'])\n",
    "                oldcom = com \n",
    "\n",
    "human_compartment_experiments.dropna(axis=1, how='all')\n",
    "human_compartment_experiments.replace(np.nan, ' ', inplace=True)\n",
    "\n",
    "human_compartment_experiments.to_csv('Output/human_compartment_experiments_filtered.gmt', sep='\\t', quotechar=' ', header=None)"
   ]
  },
  {
   "cell_type": "code",
   "execution_count": 9,
   "metadata": {
    "collapsed": false
   },
   "outputs": [],
   "source": [
    "h_c_k = pd.read_csv('Input/human_compartment_knowledge_full.tsv', sep='\\t', names=col)\n",
    "h_c_k = h_c_k[['Compartment', 'GO', 'GeneSym']]\n",
    "h_c_k.sort_values(by='Compartment', inplace=True)\n",
    "\n",
    "human_compartment_knowledge = pd.DataFrame()\n",
    "\n",
    "oldcom = ''\n",
    "lst = []\n",
    "\n",
    "for ind in h_c_k.index:\n",
    "    \n",
    "    com = h_c_k.at[ind, 'Compartment']\n",
    "    \n",
    "    if com == oldcom:\n",
    "        lst.append(h_c_k.at[ind, 'GeneSym'])\n",
    "    else:\n",
    "        if not lst:\n",
    "            lst.append(h_c_k.at[ind, 'GO'])\n",
    "            oldcom = com        \n",
    "        else:\n",
    "            if len(lst) >= 6:\n",
    "                temp_df = pd.DataFrame(index=[oldcom], columns=range(0, len(lst)))\n",
    "                temp_df.ix[oldcom] = lst \n",
    "                human_compartment_knowledge = human_compartment_knowledge.append(temp_df)\n",
    "\n",
    "                lst = []\n",
    "                lst.append(h_c_k.at[ind, 'GO'])\n",
    "                oldcom = com\n",
    "            else:\n",
    "                lst = []\n",
    "                lst.append(h_c_k.at[ind, 'GO'])\n",
    "                oldcom = com \n",
    "\n",
    "human_compartment_knowledge.dropna(axis=1, how='all')\n",
    "human_compartment_knowledge.replace(np.nan, ' ', inplace=True)\n",
    "\n",
    "human_compartment_knowledge.to_csv('Output/human_compartment_knowledge_filtered.gmt', sep='\\t', quotechar=' ', header=None)"
   ]
  },
  {
   "cell_type": "code",
   "execution_count": 11,
   "metadata": {
    "collapsed": false
   },
   "outputs": [],
   "source": [
    "frames = [human_compartment_experiments, human_compartment_knowledge, human_compartment_textmining]\n",
    "human_compartment = pd.concat(frames)\n",
    "human_compartment = human_compartment.reset_index().drop_duplicates(subset='index').set_index('index')"
   ]
  },
  {
   "cell_type": "code",
   "execution_count": 12,
   "metadata": {
    "collapsed": true
   },
   "outputs": [],
   "source": [
    "human_compartment.to_csv('Output/human_compartment_filtered.gmt', sep='\\t', quotechar=' ', header=None)"
   ]
  },
  {
   "cell_type": "code",
   "execution_count": 13,
   "metadata": {
    "collapsed": false
   },
   "outputs": [
    {
     "name": "stdout",
     "output_type": "stream",
     "text": [
      "human_compartment:\n",
      "number of terms(lines): 2283\n",
      "gene statistics:\n",
      "mean # of genes: 163\n",
      "max set: 8431 (cellular_component)\n",
      "min set: 5 (MIS12/MIND type complex)\n"
     ]
    }
   ],
   "source": [
    "print ('human_compartment:')\n",
    "print ('number of terms(lines): %s' % human_compartment.index.unique().size)\n",
    "print ('gene statistics:')\n",
    "print ('mean # of genes: %s' % int(human_compartment.T.describe().ix['unique'].mean()))\n",
    "print ('max set: %s (%s)' % (human_compartment.T.describe().ix['unique'].max(), human_compartment.T.describe().ix['unique'].idxmax()))\n",
    "print ('min set: %s (%s)' % (human_compartment.T.describe().ix['unique'].min(), human_compartment.T.describe().ix['unique'].idxmin()))"
   ]
  },
  {
   "cell_type": "code",
   "execution_count": 14,
   "metadata": {
    "collapsed": false
   },
   "outputs": [
    {
     "name": "stdout",
     "output_type": "stream",
     "text": [
      "human_compartment_experiments:\n",
      "number of terms(lines): 56\n",
      "gene statistics:\n",
      "mean # of genes: 2139\n",
      "max set: 8431 (cellular_component)\n",
      "min set: 59 (Aggresome)\n"
     ]
    }
   ],
   "source": [
    "print ('human_compartment_experiments:')\n",
    "print ('number of terms(lines): %s' % human_compartment_experiments.index.unique().size)\n",
    "print ('gene statistics:')\n",
    "print ('mean # of genes: %s' % int(human_compartment_experiments.T.describe().ix['unique'].mean()))\n",
    "print ('max set: %s (%s)' % (human_compartment_experiments.T.describe().ix['unique'].max(), human_compartment_experiments.T.describe().ix['unique'].idxmax()))\n",
    "print ('min set: %s (%s)' % (human_compartment_experiments.T.describe().ix['unique'].min(), human_compartment_experiments.T.describe().ix['unique'].idxmin()))"
   ]
  },
  {
   "cell_type": "code",
   "execution_count": 15,
   "metadata": {
    "collapsed": false
   },
   "outputs": [
    {
     "name": "stdout",
     "output_type": "stream",
     "text": [
      "human_compartment_knowledge:\n",
      "number of terms(lines): 977\n",
      "gene statistics:\n",
      "mean # of genes: 397\n",
      "max set: 17466 (cellular_component)\n",
      "min set: 5 (MIS12/MIND type complex)\n"
     ]
    }
   ],
   "source": [
    "print ('human_compartment_knowledge:')\n",
    "print ('number of terms(lines): %s' % human_compartment_knowledge.index.unique().size)\n",
    "print ('gene statistics:')\n",
    "print ('mean # of genes: %s' % int(human_compartment_knowledge.T.describe().ix['unique'].mean()))\n",
    "print ('max set: %s (%s)' % (human_compartment_knowledge.T.describe().ix['unique'].max(), human_compartment_knowledge.T.describe().ix['unique'].idxmax()))\n",
    "print ('min set: %s (%s)' % (human_compartment_knowledge.T.describe().ix['unique'].min(), human_compartment_knowledge.T.describe().ix['unique'].idxmin()))"
   ]
  },
  {
   "cell_type": "code",
   "execution_count": 16,
   "metadata": {
    "collapsed": false
   },
   "outputs": [
    {
     "name": "stdout",
     "output_type": "stream",
     "text": [
      "human_compartment_textmining:\n",
      "number of terms(lines): 2179\n",
      "gene statistics:\n",
      "mean # of genes: 284\n",
      "max set: 11407 (cellular_component)\n",
      "min set: 7 (Azurophil granule membrane)\n"
     ]
    }
   ],
   "source": [
    "print ('human_compartment_textmining:')\n",
    "print ('number of terms(lines): %s' % human_compartment_textmining.index.unique().size)\n",
    "print ('gene statistics:')\n",
    "print ('mean # of genes: %s' % int(human_compartment_textmining.T.describe().ix['unique'].mean()))\n",
    "print ('max set: %s (%s)' % (human_compartment_textmining.T.describe().ix['unique'].max(), human_compartment_textmining.T.describe().ix['unique'].idxmax()))\n",
    "print ('min set: %s (%s)' % (human_compartment_textmining.T.describe().ix['unique'].min(), human_compartment_textmining.T.describe().ix['unique'].idxmin()))"
   ]
  }
 ],
 "metadata": {
  "anaconda-cloud": {},
  "kernelspec": {
   "display_name": "Python [default]",
   "language": "python",
   "name": "python3"
  },
  "language_info": {
   "codemirror_mode": {
    "name": "ipython",
    "version": 3
   },
   "file_extension": ".py",
   "mimetype": "text/x-python",
   "name": "python",
   "nbconvert_exporter": "python",
   "pygments_lexer": "ipython3",
   "version": "3.5.2"
  }
 },
 "nbformat": 4,
 "nbformat_minor": 2
}
