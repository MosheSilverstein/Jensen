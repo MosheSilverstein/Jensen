{
 "cells": [
  {
   "cell_type": "code",
   "execution_count": 52,
   "metadata": {
    "collapsed": true
   },
   "outputs": [],
   "source": [
    "import pandas as pd\n",
    "import numpy as np"
   ]
  },
  {
   "cell_type": "code",
   "execution_count": 53,
   "metadata": {
    "collapsed": true
   },
   "outputs": [],
   "source": [
    "col = ['Ensemble Acc', 'GeneSym', 'BTO', 'Tissue', 'Source', 'SampleInfo', 'Value']"
   ]
  },
  {
   "cell_type": "code",
   "execution_count": 54,
   "metadata": {
    "collapsed": true
   },
   "outputs": [],
   "source": [
    "h_t_e = pd.read_csv('Input/human_tissue_experiments_filtered.tsv', sep='\\t', names=col)"
   ]
  },
  {
   "cell_type": "code",
   "execution_count": 55,
   "metadata": {
    "collapsed": true
   },
   "outputs": [],
   "source": [
    "h_t_e = h_t_e[['Tissue', 'BTO', 'GeneSym']]"
   ]
  },
  {
   "cell_type": "code",
   "execution_count": 56,
   "metadata": {
    "collapsed": false
   },
   "outputs": [],
   "source": [
    "h_t_e.sort_values(by='Tissue', inplace=True)"
   ]
  },
  {
   "cell_type": "code",
   "execution_count": 57,
   "metadata": {
    "collapsed": false
   },
   "outputs": [],
   "source": [
    "human_tissue_experiment = pd.DataFrame()\n",
    "\n",
    "oldtis = ''\n",
    "lst = []\n",
    "\n",
    "for ind in h_t_e.index:\n",
    "    \n",
    "    tis = h_t_e.at[ind, 'Tissue']\n",
    "    \n",
    "    if tis == oldtis:\n",
    "        lst.append(h_t_e.at[ind, 'GeneSym'])\n",
    "    else:\n",
    "        if not lst:\n",
    "            lst.append(h_t_e.at[ind, 'BTO'])\n",
    "            oldtis = tis        \n",
    "        else:\n",
    "            if len(lst) >= 6:\n",
    "                temp_df = pd.DataFrame(index=[oldtis], columns=range(0, len(lst)))\n",
    "                temp_df.ix[oldtis] = lst \n",
    "                human_tissue_experiment = human_tissue_experiment.append(temp_df)\n",
    "\n",
    "                lst = []\n",
    "                lst.append(h_t_e.at[ind, 'BTO'])\n",
    "                oldtis = tis\n",
    "            else:\n",
    "                lst = []\n",
    "                lst.append(h_t_e.at[ind, 'BTO'])\n",
    "                oldtis = tis \n",
    "\n",
    "human_tissue_experiment.dropna(axis=1, how='all')\n",
    "human_tissue_experiment.replace(np.nan, ' ', inplace=True)"
   ]
  },
  {
   "cell_type": "code",
   "execution_count": 58,
   "metadata": {
    "collapsed": false
   },
   "outputs": [],
   "source": [
    "human_tissue_experiment.to_csv('Output/human_tissue_experiments_filtered.gmt', sep='\\t', quotechar=' ', header=None)"
   ]
  },
  {
   "cell_type": "code",
   "execution_count": 59,
   "metadata": {
    "collapsed": false
   },
   "outputs": [],
   "source": [
    "h_t_k = pd.read_csv('Input/human_tissue_knowledge_filtered.tsv', sep='\\t', names=col)"
   ]
  },
  {
   "cell_type": "code",
   "execution_count": 60,
   "metadata": {
    "collapsed": false
   },
   "outputs": [],
   "source": [
    "h_t_k = h_t_k[['Tissue', 'BTO', 'GeneSym']]"
   ]
  },
  {
   "cell_type": "code",
   "execution_count": 61,
   "metadata": {
    "collapsed": false
   },
   "outputs": [],
   "source": [
    "h_t_k.sort_values(by='Tissue', inplace=True)"
   ]
  },
  {
   "cell_type": "code",
   "execution_count": 62,
   "metadata": {
    "collapsed": true
   },
   "outputs": [],
   "source": [
    "human_tissue_knowledge = pd.DataFrame()\n",
    "\n",
    "oldtis = ''\n",
    "lst = []\n",
    "\n",
    "for ind in h_t_k.index:\n",
    "    \n",
    "    tis = h_t_k.at[ind, 'Tissue']\n",
    "    \n",
    "    if tis == oldtis:\n",
    "        lst.append(h_t_k.at[ind, 'GeneSym'])\n",
    "    else:\n",
    "        if not lst:\n",
    "            lst.append(h_t_k.at[ind, 'BTO'])\n",
    "            oldtis = tis        \n",
    "        else:\n",
    "            if len(lst) >= 6:\n",
    "                temp_df = pd.DataFrame(index=[oldtis], columns=range(0, len(lst)))\n",
    "                temp_df.ix[oldtis] = lst \n",
    "                human_tissue_knowledge = human_tissue_knowledge.append(temp_df)\n",
    "\n",
    "                lst = []\n",
    "                lst.append(h_t_k.at[ind, 'BTO'])\n",
    "                oldtis = tis\n",
    "            else:\n",
    "                lst = []\n",
    "                lst.append(h_t_k.at[ind, 'BTO'])\n",
    "                oldtis = tis \n",
    "\n",
    "human_tissue_knowledge.dropna(axis=1, how='all')\n",
    "human_tissue_knowledge.replace(np.nan, ' ', inplace=True)"
   ]
  },
  {
   "cell_type": "code",
   "execution_count": 63,
   "metadata": {
    "collapsed": true
   },
   "outputs": [],
   "source": [
    "human_tissue_knowledge.to_csv('Output/human_tissue_knowledge_filtered.gmt', sep='\\t', quotechar=' ', header=None)"
   ]
  },
  {
   "cell_type": "code",
   "execution_count": 64,
   "metadata": {
    "collapsed": false
   },
   "outputs": [],
   "source": [
    "h_t_t = pd.read_csv('Input/human_tissue_textmining_filtered.tsv', sep='\\t', names=col)"
   ]
  },
  {
   "cell_type": "code",
   "execution_count": 65,
   "metadata": {
    "collapsed": true
   },
   "outputs": [],
   "source": [
    "h_t_t = h_t_t[['Tissue', 'BTO', 'GeneSym']]"
   ]
  },
  {
   "cell_type": "code",
   "execution_count": 66,
   "metadata": {
    "collapsed": true
   },
   "outputs": [],
   "source": [
    "h_t_t.sort_values(by='Tissue', inplace=True)"
   ]
  },
  {
   "cell_type": "code",
   "execution_count": 67,
   "metadata": {
    "collapsed": true
   },
   "outputs": [],
   "source": [
    "human_tissue_textmining = pd.DataFrame()\n",
    "\n",
    "oldtis = ''\n",
    "lst = []\n",
    "\n",
    "for ind in h_t_t.index:\n",
    "    \n",
    "    tis = h_t_t.at[ind, 'Tissue']\n",
    "    \n",
    "    if tis == oldtis:\n",
    "        lst.append(h_t_t.at[ind, 'GeneSym'])\n",
    "    else:\n",
    "        if not lst:\n",
    "            lst.append(h_t_t.at[ind, 'BTO'])\n",
    "            oldtis = tis        \n",
    "        else:\n",
    "            if len(lst) >= 6:\n",
    "                temp_df = pd.DataFrame(index=[oldtis], columns=range(0, len(lst)))\n",
    "                temp_df.ix[oldtis] = lst \n",
    "                human_tissue_textmining = human_tissue_textmining.append(temp_df)\n",
    "\n",
    "                lst = []\n",
    "                lst.append(h_t_t.at[ind, 'BTO'])\n",
    "                oldtis = tis\n",
    "            else:\n",
    "                lst = []\n",
    "                lst.append(h_t_t.at[ind, 'BTO'])\n",
    "                oldtis = tis \n",
    "\n",
    "human_tissue_textmining.dropna(axis=1, how='all')\n",
    "human_tissue_textmining.replace(np.nan, ' ', inplace=True)"
   ]
  },
  {
   "cell_type": "code",
   "execution_count": 68,
   "metadata": {
    "collapsed": true
   },
   "outputs": [],
   "source": [
    "human_tissue_textmining.to_csv('Output/human_tissue_textmining_filtered.gmt', sep='\\t', quotechar=' ', header=None)"
   ]
  }
 ],
 "metadata": {
  "anaconda-cloud": {},
  "kernelspec": {
   "display_name": "Python [default]",
   "language": "python",
   "name": "python3"
  },
  "language_info": {
   "codemirror_mode": {
    "name": "ipython",
    "version": 3
   },
   "file_extension": ".py",
   "mimetype": "text/x-python",
   "name": "python",
   "nbconvert_exporter": "python",
   "pygments_lexer": "ipython3",
   "version": "3.5.2"
  }
 },
 "nbformat": 4,
 "nbformat_minor": 2
}
