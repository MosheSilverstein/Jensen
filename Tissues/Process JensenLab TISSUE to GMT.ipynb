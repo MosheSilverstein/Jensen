{
 "cells": [
  {
   "cell_type": "code",
   "execution_count": 1,
   "metadata": {
    "collapsed": true
   },
   "outputs": [],
   "source": [
    "import pandas as pd\n",
    "import numpy as np"
   ]
  },
  {
   "cell_type": "code",
   "execution_count": 2,
   "metadata": {
    "collapsed": true
   },
   "outputs": [],
   "source": [
    "col = ['Ensemble Acc', 'GeneSym', 'BTO', 'Tissue', 'Source', 'SampleInfo', 'Value']"
   ]
  },
  {
   "cell_type": "code",
   "execution_count": 3,
   "metadata": {
    "collapsed": true
   },
   "outputs": [],
   "source": [
    "h_t_e = pd.read_csv('Input/human_tissue_experiments_filtered.tsv', sep='\\t', names=col)"
   ]
  },
  {
   "cell_type": "code",
   "execution_count": 4,
   "metadata": {
    "collapsed": true
   },
   "outputs": [],
   "source": [
    "h_t_e = h_t_e[['Tissue', 'BTO', 'GeneSym']]"
   ]
  },
  {
   "cell_type": "code",
   "execution_count": 5,
   "metadata": {
    "collapsed": false
   },
   "outputs": [],
   "source": [
    "h_t_e.sort_values(by='Tissue', inplace=True)"
   ]
  },
  {
   "cell_type": "code",
   "execution_count": 6,
   "metadata": {
    "collapsed": false
   },
   "outputs": [],
   "source": [
    "human_tissue_experiment = pd.DataFrame()\n",
    "\n",
    "oldtis = ''\n",
    "lst = []\n",
    "\n",
    "for ind in h_t_e.index:\n",
    "    \n",
    "    tis = h_t_e.at[ind, 'Tissue']\n",
    "    \n",
    "    if tis == oldtis:\n",
    "        lst.append(h_t_e.at[ind, 'GeneSym'])\n",
    "    else:\n",
    "        if not lst:\n",
    "            lst.append(h_t_e.at[ind, 'BTO'])\n",
    "            oldtis = tis        \n",
    "        else:\n",
    "            if len(lst) >= 6:\n",
    "                temp_df = pd.DataFrame(index=[oldtis], columns=range(0, len(lst)))\n",
    "                temp_df.ix[oldtis] = lst \n",
    "                human_tissue_experiment = human_tissue_experiment.append(temp_df)\n",
    "\n",
    "                lst = []\n",
    "                lst.append(h_t_e.at[ind, 'BTO'])\n",
    "                oldtis = tis\n",
    "            else:\n",
    "                lst = []\n",
    "                lst.append(h_t_e.at[ind, 'BTO'])\n",
    "                oldtis = tis \n",
    "\n",
    "human_tissue_experiment.dropna(axis=1, how='all')\n",
    "human_tissue_experiment.replace(np.nan, ' ', inplace=True)"
   ]
  },
  {
   "cell_type": "code",
   "execution_count": 7,
   "metadata": {
    "collapsed": false
   },
   "outputs": [],
   "source": [
    "human_tissue_experiment.to_csv('Output/human_tissue_experiments_filtered.gmt', sep='\\t', quotechar=' ', header=None)"
   ]
  },
  {
   "cell_type": "code",
   "execution_count": 8,
   "metadata": {
    "collapsed": false
   },
   "outputs": [],
   "source": [
    "h_t_k = pd.read_csv('Input/human_tissue_knowledge_filtered.tsv', sep='\\t', names=col)"
   ]
  },
  {
   "cell_type": "code",
   "execution_count": 9,
   "metadata": {
    "collapsed": false
   },
   "outputs": [],
   "source": [
    "h_t_k = h_t_k[['Tissue', 'BTO', 'GeneSym']]"
   ]
  },
  {
   "cell_type": "code",
   "execution_count": 10,
   "metadata": {
    "collapsed": false
   },
   "outputs": [],
   "source": [
    "h_t_k.sort_values(by='Tissue', inplace=True)"
   ]
  },
  {
   "cell_type": "code",
   "execution_count": 11,
   "metadata": {
    "collapsed": true
   },
   "outputs": [],
   "source": [
    "human_tissue_knowledge = pd.DataFrame()\n",
    "\n",
    "oldtis = ''\n",
    "lst = []\n",
    "\n",
    "for ind in h_t_k.index:\n",
    "    \n",
    "    tis = h_t_k.at[ind, 'Tissue']\n",
    "    \n",
    "    if tis == oldtis:\n",
    "        lst.append(h_t_k.at[ind, 'GeneSym'])\n",
    "    else:\n",
    "        if not lst:\n",
    "            lst.append(h_t_k.at[ind, 'BTO'])\n",
    "            oldtis = tis        \n",
    "        else:\n",
    "            if len(lst) >= 6:\n",
    "                temp_df = pd.DataFrame(index=[oldtis], columns=range(0, len(lst)))\n",
    "                temp_df.ix[oldtis] = lst \n",
    "                human_tissue_knowledge = human_tissue_knowledge.append(temp_df)\n",
    "\n",
    "                lst = []\n",
    "                lst.append(h_t_k.at[ind, 'BTO'])\n",
    "                oldtis = tis\n",
    "            else:\n",
    "                lst = []\n",
    "                lst.append(h_t_k.at[ind, 'BTO'])\n",
    "                oldtis = tis \n",
    "\n",
    "human_tissue_knowledge.dropna(axis=1, how='all')\n",
    "human_tissue_knowledge.replace(np.nan, ' ', inplace=True)"
   ]
  },
  {
   "cell_type": "code",
   "execution_count": 12,
   "metadata": {
    "collapsed": true
   },
   "outputs": [],
   "source": [
    "human_tissue_knowledge.to_csv('Output/human_tissue_knowledge_filtered.gmt', sep='\\t', quotechar=' ', header=None)"
   ]
  },
  {
   "cell_type": "code",
   "execution_count": 13,
   "metadata": {
    "collapsed": false
   },
   "outputs": [],
   "source": [
    "h_t_t = pd.read_csv('Input/human_tissue_textmining_filtered.tsv', sep='\\t', names=col)"
   ]
  },
  {
   "cell_type": "code",
   "execution_count": 14,
   "metadata": {
    "collapsed": true
   },
   "outputs": [],
   "source": [
    "h_t_t = h_t_t[['Tissue', 'BTO', 'GeneSym']]"
   ]
  },
  {
   "cell_type": "code",
   "execution_count": 15,
   "metadata": {
    "collapsed": true
   },
   "outputs": [],
   "source": [
    "h_t_t.sort_values(by='Tissue', inplace=True)"
   ]
  },
  {
   "cell_type": "code",
   "execution_count": 16,
   "metadata": {
    "collapsed": true
   },
   "outputs": [],
   "source": [
    "human_tissue_textmining = pd.DataFrame()\n",
    "\n",
    "oldtis = ''\n",
    "lst = []\n",
    "\n",
    "for ind in h_t_t.index:\n",
    "    \n",
    "    tis = h_t_t.at[ind, 'Tissue']\n",
    "    \n",
    "    if tis == oldtis:\n",
    "        lst.append(h_t_t.at[ind, 'GeneSym'])\n",
    "    else:\n",
    "        if not lst:\n",
    "            lst.append(h_t_t.at[ind, 'BTO'])\n",
    "            oldtis = tis        \n",
    "        else:\n",
    "            if len(lst) >= 6:\n",
    "                temp_df = pd.DataFrame(index=[oldtis], columns=range(0, len(lst)))\n",
    "                temp_df.ix[oldtis] = lst \n",
    "                human_tissue_textmining = human_tissue_textmining.append(temp_df)\n",
    "\n",
    "                lst = []\n",
    "                lst.append(h_t_t.at[ind, 'BTO'])\n",
    "                oldtis = tis\n",
    "            else:\n",
    "                lst = []\n",
    "                lst.append(h_t_t.at[ind, 'BTO'])\n",
    "                oldtis = tis \n",
    "\n",
    "human_tissue_textmining.dropna(axis=1, how='all')\n",
    "human_tissue_textmining.replace(np.nan, ' ', inplace=True)"
   ]
  },
  {
   "cell_type": "code",
   "execution_count": 17,
   "metadata": {
    "collapsed": true
   },
   "outputs": [],
   "source": [
    "human_tissue_textmining.to_csv('Output/human_tissue_textmining_filtered.gmt', sep='\\t', quotechar=' ', header=None)"
   ]
  },
  {
   "cell_type": "code",
   "execution_count": 18,
   "metadata": {
    "collapsed": false
   },
   "outputs": [],
   "source": [
    "frames = [human_tissue_experiment, human_tissue_knowledge, human_tissue_textmining]\n",
    "human_tissue = pd.concat(frames)\n",
    "human_tissue = human_tissue.reset_index().drop_duplicates(subset='index').set_index('index')"
   ]
  },
  {
   "cell_type": "code",
   "execution_count": 29,
   "metadata": {
    "collapsed": false
   },
   "outputs": [],
   "source": [
    "human_tissue.to_csv('Output/human_tissue_filtered.gmt', sep='\\t', quotechar=' ', header=None)\n"
   ]
  },
  {
   "cell_type": "code",
   "execution_count": 30,
   "metadata": {
    "collapsed": false
   },
   "outputs": [
    {
     "name": "stdout",
     "output_type": "stream",
     "text": [
      "human_tissue:\n",
      "number of terms(lines): 1842\n",
      "gene statistics:\n",
      "mean # of genes: 548\n",
      "max set: 17539 (Testis)\n",
      "min set: 7 (Corneal epithelium)\n"
     ]
    }
   ],
   "source": [
    "print ('human_tissue:')\n",
    "print ('number of terms(lines): %s' % human_tissue.index.unique().size)\n",
    "print ('gene statistics:')\n",
    "print ('mean # of genes: %s' % int(human_tissue.T.describe().ix['unique'].mean()))\n",
    "print ('max set: %s (%s)' % (human_tissue.T.describe().ix['unique'].max(), human_tissue.T.describe().ix['unique'].idxmax()))\n",
    "print ('min set: %s (%s)' % (human_tissue.T.describe().ix['unique'].min(), human_tissue.T.describe().ix['unique'].idxmin()))"
   ]
  },
  {
   "cell_type": "code",
   "execution_count": 19,
   "metadata": {
    "collapsed": false
   },
   "outputs": [
    {
     "name": "stdout",
     "output_type": "stream",
     "text": [
      "human_tissue_experiment:\n",
      "number of terms(lines): 105\n",
      "gene statistics:\n",
      "mean # of genes: 9066\n",
      "max set: 17539 (Testis)\n",
      "min set: 120 (Nerve)\n"
     ]
    }
   ],
   "source": [
    "print ('human_tissue_experiment:')\n",
    "print ('number of terms(lines): %s' % human_tissue_experiment.index.unique().size)\n",
    "print ('gene statistics:')\n",
    "print ('mean # of genes: %s' % int(human_tissue_experiment.T.describe().ix['unique'].mean()))\n",
    "print ('max set: %s (%s)' % (human_tissue_experiment.T.describe().ix['unique'].max(), human_tissue_experiment.T.describe().ix['unique'].idxmax()))\n",
    "print ('min set: %s (%s)' % (human_tissue_experiment.T.describe().ix['unique'].min(), human_tissue_experiment.T.describe().ix['unique'].idxmin()))"
   ]
  },
  {
   "cell_type": "code",
   "execution_count": 20,
   "metadata": {
    "collapsed": false
   },
   "outputs": [
    {
     "name": "stdout",
     "output_type": "stream",
     "text": [
      "human_tissue_knowledge:\n",
      "number of terms(lines): 232\n",
      "gene statistics:\n",
      "mean # of genes: 274\n",
      "max set: 7289 (Brain)\n",
      "min set: 7 (Corneal epithelium)\n"
     ]
    }
   ],
   "source": [
    "print ('human_tissue_knowledge:')\n",
    "print ('number of terms(lines): %s' % human_tissue_knowledge.index.unique().size)\n",
    "print ('gene statistics:')\n",
    "print ('mean # of genes: %s' % int(human_tissue_knowledge.T.describe().ix['unique'].mean()))\n",
    "print ('max set: %s (%s)' % (human_tissue_knowledge.T.describe().ix['unique'].max(), human_tissue_knowledge.T.describe().ix['unique'].idxmax()))\n",
    "print ('min set: %s (%s)' % (human_tissue_knowledge.T.describe().ix['unique'].min(), human_tissue_knowledge.T.describe().ix['unique'].idxmin()))"
   ]
  },
  {
   "cell_type": "code",
   "execution_count": 21,
   "metadata": {
    "collapsed": false
   },
   "outputs": [
    {
     "name": "stdout",
     "output_type": "stream",
     "text": [
      "human_tissue_textmining:\n",
      "number of terms(lines): 1714\n",
      "gene statistics:\n",
      "mean # of genes: 31\n",
      "max set: 1789 (Blood)\n",
      "min set: 7 (10T1/2 cell)\n"
     ]
    }
   ],
   "source": [
    "print ('human_tissue_textmining:')\n",
    "print ('number of terms(lines): %s' % human_tissue_textmining.index.unique().size)\n",
    "print ('gene statistics:')\n",
    "print ('mean # of genes: %s' % int(human_tissue_textmining.T.describe().ix['unique'].mean()))\n",
    "print ('max set: %s (%s)' % (human_tissue_textmining.T.describe().ix['unique'].max(), human_tissue_textmining.T.describe().ix['unique'].idxmax()))\n",
    "print ('min set: %s (%s)' % (human_tissue_textmining.T.describe().ix['unique'].min(), human_tissue_textmining.T.describe().ix['unique'].idxmin()))"
   ]
  }
 ],
 "metadata": {
  "anaconda-cloud": {},
  "kernelspec": {
   "display_name": "Python [default]",
   "language": "python",
   "name": "python3"
  },
  "language_info": {
   "codemirror_mode": {
    "name": "ipython",
    "version": 3
   },
   "file_extension": ".py",
   "mimetype": "text/x-python",
   "name": "python",
   "nbconvert_exporter": "python",
   "pygments_lexer": "ipython3",
   "version": "3.5.2"
  }
 },
 "nbformat": 4,
 "nbformat_minor": 2
}
