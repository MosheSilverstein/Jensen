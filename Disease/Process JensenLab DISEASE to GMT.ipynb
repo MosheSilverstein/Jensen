{
 "cells": [
  {
   "cell_type": "code",
   "execution_count": 1,
   "metadata": {
    "collapsed": true
   },
   "outputs": [],
   "source": [
    "import pandas as pd\n",
    "import numpy as np"
   ]
  },
  {
   "cell_type": "code",
   "execution_count": 2,
   "metadata": {
    "collapsed": false
   },
   "outputs": [],
   "source": [
    "col = ['Ensemble Acc', 'GeneSym', 'DOID', 'Disease', 'Source', 'SampleInfo', 'Value']"
   ]
  },
  {
   "cell_type": "code",
   "execution_count": 3,
   "metadata": {
    "collapsed": true
   },
   "outputs": [],
   "source": [
    "h_d_e = pd.read_csv('Input/human_disease_experiments_filtered.tsv', sep='\\t', names=col)"
   ]
  },
  {
   "cell_type": "code",
   "execution_count": 4,
   "metadata": {
    "collapsed": true
   },
   "outputs": [],
   "source": [
    "h_d_k = pd.read_csv('Input/human_disease_knowledge_filtered.tsv', sep='\\t', names=col)"
   ]
  },
  {
   "cell_type": "code",
   "execution_count": 5,
   "metadata": {
    "collapsed": true
   },
   "outputs": [],
   "source": [
    "h_d_t = pd.read_csv('Input/human_disease_textmining_filtered.tsv', sep='\\t', names=col)"
   ]
  },
  {
   "cell_type": "code",
   "execution_count": 6,
   "metadata": {
    "collapsed": false
   },
   "outputs": [],
   "source": [
    "h_d_e = h_d_e[['Disease', 'DOID', 'GeneSym']]"
   ]
  },
  {
   "cell_type": "code",
   "execution_count": 7,
   "metadata": {
    "collapsed": true
   },
   "outputs": [],
   "source": [
    "h_d_k = h_d_k[['Disease', 'DOID', 'GeneSym']]"
   ]
  },
  {
   "cell_type": "code",
   "execution_count": 8,
   "metadata": {
    "collapsed": true
   },
   "outputs": [],
   "source": [
    "h_d_t = h_d_t[['Disease', 'DOID', 'GeneSym']]"
   ]
  },
  {
   "cell_type": "code",
   "execution_count": 9,
   "metadata": {
    "collapsed": false
   },
   "outputs": [],
   "source": [
    "h_d_e.sort_values(by='Disease', inplace=True)"
   ]
  },
  {
   "cell_type": "code",
   "execution_count": 10,
   "metadata": {
    "collapsed": true
   },
   "outputs": [],
   "source": [
    "h_d_k.sort_values(by='Disease', inplace=True)"
   ]
  },
  {
   "cell_type": "code",
   "execution_count": 11,
   "metadata": {
    "collapsed": true
   },
   "outputs": [],
   "source": [
    "h_d_t.sort_values(by='Disease', inplace=True)"
   ]
  },
  {
   "cell_type": "code",
   "execution_count": 12,
   "metadata": {
    "collapsed": false
   },
   "outputs": [],
   "source": [
    "human_disease_experiment = pd.DataFrame()\n",
    "\n",
    "olddis = ''\n",
    "lst = []\n",
    "\n",
    "for ind in h_d_e.index:\n",
    "    \n",
    "    dis = h_d_e.at[ind, 'Disease']\n",
    "    \n",
    "    if dis == olddis:\n",
    "        lst.append(h_d_e.at[ind, 'GeneSym'])\n",
    "    else:\n",
    "        if not lst:\n",
    "            lst.append(h_d_e.at[ind, 'DOID'])\n",
    "            olddis = dis        \n",
    "        else:\n",
    "            if len(lst) >= 6:\n",
    "                temp_df = pd.DataFrame(index=[olddis], columns=range(0, len(lst)))\n",
    "                temp_df.ix[olddis] = lst \n",
    "                human_disease_experiment = human_disease_experiment.append(temp_df)\n",
    "\n",
    "                lst = []\n",
    "                lst.append(h_d_e.at[ind, 'DOID'])\n",
    "                olddis = dis\n",
    "            else:\n",
    "                lst = []\n",
    "                lst.append(h_d_e.at[ind, 'DOID'])\n",
    "                olddis = dis \n",
    "\n",
    "human_disease_experiment.dropna(axis=1, how='all')\n",
    "human_disease_experiment.replace(np.nan, ' ', inplace=True)"
   ]
  },
  {
   "cell_type": "code",
   "execution_count": 13,
   "metadata": {
    "collapsed": true
   },
   "outputs": [],
   "source": [
    "human_disease_knowledge = pd.DataFrame()\n",
    "\n",
    "olddis = ''\n",
    "lst = []\n",
    "\n",
    "for ind in h_d_k.index:\n",
    "    \n",
    "    dis = h_d_k.at[ind, 'Disease']\n",
    "    \n",
    "    if dis == olddis:\n",
    "        lst.append(h_d_k.at[ind, 'GeneSym'])\n",
    "    else:\n",
    "        if not lst:\n",
    "            lst.append(h_d_k.at[ind, 'DOID'])\n",
    "            olddis = dis        \n",
    "        else:\n",
    "            if len(lst) >= 6:\n",
    "                temp_df = pd.DataFrame(index=[olddis], columns=range(0, len(lst)))\n",
    "                temp_df.ix[olddis] = lst \n",
    "                human_disease_knowledge = human_disease_knowledge.append(temp_df)\n",
    "\n",
    "                lst = []\n",
    "                lst.append(h_d_k.at[ind, 'DOID'])\n",
    "                olddis = dis\n",
    "            else:\n",
    "                lst = []\n",
    "                lst.append(h_d_k.at[ind, 'DOID'])\n",
    "                olddis = dis \n",
    "\n",
    "human_disease_knowledge.dropna(axis=1, how='all')\n",
    "human_disease_knowledge.replace(np.nan, ' ', inplace=True)"
   ]
  },
  {
   "cell_type": "code",
   "execution_count": 14,
   "metadata": {
    "collapsed": false
   },
   "outputs": [],
   "source": [
    "human_disease_textmining = pd.DataFrame()\n",
    "\n",
    "olddis = ''\n",
    "lst = []\n",
    "\n",
    "for ind in h_d_t.index:\n",
    "    \n",
    "    dis = h_d_t.at[ind, 'Disease']\n",
    "    \n",
    "    if dis == olddis:\n",
    "        lst.append(h_d_t.at[ind, 'GeneSym'])\n",
    "    else:\n",
    "        if not lst:\n",
    "            lst.append(h_d_t.at[ind, 'DOID'])\n",
    "            olddis = dis        \n",
    "        else:\n",
    "            if len(lst) >= 6:\n",
    "                temp_df = pd.DataFrame(index=[olddis], columns=range(0, len(lst)))\n",
    "                temp_df.ix[olddis] = lst \n",
    "                human_disease_textmining = human_disease_textmining.append(temp_df)\n",
    "\n",
    "                lst = []\n",
    "                lst.append(h_d_t.at[ind, 'DOID'])\n",
    "                olddis = dis\n",
    "            else:\n",
    "                lst = []\n",
    "                lst.append(h_d_t.at[ind, 'DOID'])\n",
    "                olddis = dis \n",
    "\n",
    "human_disease_textmining.dropna(axis=1, how='all')\n",
    "human_disease_textmining.replace(np.nan, ' ', inplace=True)"
   ]
  },
  {
   "cell_type": "code",
   "execution_count": 15,
   "metadata": {
    "collapsed": false
   },
   "outputs": [],
   "source": [
    "human_disease_experiment.to_csv('Output/human_disease_experiments_filtered.gmt', sep='\\t', quotechar=' ', header=None)"
   ]
  },
  {
   "cell_type": "code",
   "execution_count": 16,
   "metadata": {
    "collapsed": false
   },
   "outputs": [],
   "source": [
    "human_disease_knowledge.to_csv('Output/human_disease_knowledge_filtered.gmt', sep='\\t', quotechar=' ', header=None)"
   ]
  },
  {
   "cell_type": "code",
   "execution_count": 17,
   "metadata": {
    "collapsed": true
   },
   "outputs": [],
   "source": [
    "human_disease_textmining.to_csv('Output/human_disease_textmining_filtered.gmt', sep='\\t', quotechar=' ', header=None)"
   ]
  },
  {
   "cell_type": "code",
   "execution_count": 18,
   "metadata": {
    "collapsed": false
   },
   "outputs": [],
   "source": [
    "frames = [human_disease_experiment, human_disease_knowledge, human_disease_textmining]\n",
    "human_disease = pd.concat(frames)\n",
    "human_disease = human_disease.reset_index().drop_duplicates(subset='index').set_index('index')"
   ]
  },
  {
   "cell_type": "code",
   "execution_count": 19,
   "metadata": {
    "collapsed": true
   },
   "outputs": [],
   "source": [
    "human_disease.to_csv('Output/human_disease_filtered.gmt', sep='\\t', quotechar=' ', header=None)"
   ]
  },
  {
   "cell_type": "code",
   "execution_count": 20,
   "metadata": {
    "collapsed": false
   },
   "outputs": [
    {
     "name": "stdout",
     "output_type": "stream",
     "text": [
      "human_disease:\n",
      "number of terms(lines): 1811\n",
      "gene statistics:\n",
      "mean # of genes: 29\n",
      "max set: 11320 (Carcinoma)\n",
      "min set: 5 (LADD syndrome)\n"
     ]
    }
   ],
   "source": [
    "print ('human_disease:')\n",
    "print ('number of terms(lines): %s' % human_disease.index.unique().size)\n",
    "print ('gene statistics:')\n",
    "print ('mean # of genes: %s' % int(human_disease.T.describe().ix['unique'].mean()))\n",
    "print ('max set: %s (%s)' % (human_disease.T.describe().ix['unique'].max(), human_disease.T.describe().ix['unique'].idxmax()))\n",
    "print ('min set: %s (%s)' % (human_disease.T.describe().ix['unique'].min(), human_disease.T.describe().ix['unique'].idxmin()))"
   ]
  },
  {
   "cell_type": "code",
   "execution_count": 21,
   "metadata": {
    "collapsed": false
   },
   "outputs": [
    {
     "name": "stdout",
     "output_type": "stream",
     "text": [
      "human_disease_experiment:\n",
      "number of terms(lines): 158\n",
      "gene statistics:\n",
      "mean # of genes: 150\n",
      "max set: 11320 (Carcinoma)\n",
      "min set: 7 (Adrenal gland cancer)\n"
     ]
    }
   ],
   "source": [
    "print ('human_disease_experiment:')\n",
    "print ('number of terms(lines): %s' % human_disease_experiment.index.unique().size)\n",
    "print ('gene statistics:')\n",
    "print ('mean # of genes: %s' % int(human_disease_experiment.T.describe().ix['unique'].mean()))\n",
    "print ('max set: %s (%s)' % (human_disease_experiment.T.describe().ix['unique'].max(), human_disease_experiment.T.describe().ix['unique'].idxmax()))\n",
    "print ('min set: %s (%s)' % (human_disease_experiment.T.describe().ix['unique'].min(), human_disease_experiment.T.describe().ix['unique'].idxmin()))"
   ]
  },
  {
   "cell_type": "code",
   "execution_count": 22,
   "metadata": {
    "collapsed": false
   },
   "outputs": [
    {
     "name": "stdout",
     "output_type": "stream",
     "text": [
      "human_disease_knowledge:\n",
      "number of terms(lines): 140\n",
      "gene statistics:\n",
      "mean # of genes: 25\n",
      "max set: 301 (Cancer)\n",
      "min set: 5 (LADD syndrome)\n"
     ]
    }
   ],
   "source": [
    "print ('human_disease_knowledge:')\n",
    "print ('number of terms(lines): %s' % human_disease_knowledge.index.unique().size)\n",
    "print ('gene statistics:')\n",
    "print ('mean # of genes: %s' % int(human_disease_knowledge.T.describe().ix['unique'].mean()))\n",
    "print ('max set: %s (%s)' % (human_disease_knowledge.T.describe().ix['unique'].max(), human_disease_knowledge.T.describe().ix['unique'].idxmax()))\n",
    "print ('min set: %s (%s)' % (human_disease_knowledge.T.describe().ix['unique'].min(), human_disease_knowledge.T.describe().ix['unique'].idxmin()))"
   ]
  },
  {
   "cell_type": "code",
   "execution_count": 23,
   "metadata": {
    "collapsed": false
   },
   "outputs": [
    {
     "name": "stdout",
     "output_type": "stream",
     "text": [
      "human_disease_textmining:\n",
      "number of terms(lines): 1740\n",
      "gene statistics:\n",
      "mean # of genes: 23\n",
      "max set: 2223 (Cancer)\n",
      "min set: 7 (AGAT deficiency)\n"
     ]
    }
   ],
   "source": [
    "print ('human_disease_textmining:')\n",
    "print ('number of terms(lines): %s' % human_disease_textmining.index.unique().size)\n",
    "print ('gene statistics:')\n",
    "print ('mean # of genes: %s' % int(human_disease_textmining.T.describe().ix['unique'].mean()))\n",
    "print ('max set: %s (%s)' % (human_disease_textmining.T.describe().ix['unique'].max(), human_disease_textmining.T.describe().ix['unique'].idxmax()))\n",
    "print ('min set: %s (%s)' % (human_disease_textmining.T.describe().ix['unique'].min(), human_disease_textmining.T.describe().ix['unique'].idxmin()))"
   ]
  }
 ],
 "metadata": {
  "anaconda-cloud": {},
  "kernelspec": {
   "display_name": "Python [default]",
   "language": "python",
   "name": "python3"
  },
  "language_info": {
   "codemirror_mode": {
    "name": "ipython",
    "version": 3
   },
   "file_extension": ".py",
   "mimetype": "text/x-python",
   "name": "python",
   "nbconvert_exporter": "python",
   "pygments_lexer": "ipython3",
   "version": "3.5.2"
  }
 },
 "nbformat": 4,
 "nbformat_minor": 2
}
